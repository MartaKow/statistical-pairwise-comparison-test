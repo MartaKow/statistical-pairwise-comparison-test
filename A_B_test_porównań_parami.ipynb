{
  "nbformat": 4,
  "nbformat_minor": 0,
  "metadata": {
    "colab": {
      "provenance": [],
      "authorship_tag": "ABX9TyPgxN4QKGKRvA+F7sg4GIDh",
      "include_colab_link": true
    },
    "kernelspec": {
      "name": "python3",
      "display_name": "Python 3"
    },
    "language_info": {
      "name": "python"
    }
  },
  "cells": [
    {
      "cell_type": "markdown",
      "metadata": {
        "id": "view-in-github",
        "colab_type": "text"
      },
      "source": [
        "<a href=\"https://colab.research.google.com/github/MartaKow/statistical-pairwise-comparison-test/blob/main/A_B_test_por%C3%B3wna%C5%84_parami.ipynb\" target=\"_parent\"><img src=\"https://colab.research.google.com/assets/colab-badge.svg\" alt=\"Open In Colab\"/></a>"
      ]
    },
    {
      "cell_type": "code",
      "execution_count": null,
      "metadata": {
        "id": "Gfd68v6Kg0-r"
      },
      "outputs": [],
      "source": [
        "%matplotlib inline\n",
        "import glob\n",
        "import os\n",
        "import json\n",
        "from IPython.display import display as d\n",
        "\n",
        "import pandas as pd\n",
        "import numpy as np"
      ]
    },
    {
      "cell_type": "markdown",
      "source": [
        "Wczytanie pliku z wynikami testu porównań parami A/B:"
      ],
      "metadata": {
        "id": "SKxBgiSpmRuX"
      }
    },
    {
      "cell_type": "code",
      "source": [
        "df = pd.read_excel(\"WynikiABzdjecia.xlsx\")\n",
        "\n",
        "d(df.head(15))\n",
        "#d(df)"
      ],
      "metadata": {
        "colab": {
          "base_uri": "https://localhost:8080/",
          "height": 520
        },
        "id": "MrfCT54lhe-u",
        "outputId": "7624aa5f-5c2a-49c7-ca41-0d2662bce030"
      },
      "execution_count": null,
      "outputs": [
        {
          "output_type": "display_data",
          "data": {
            "text/plain": [
              "    osoba  para  obiekt_A  obiekt_B\n",
              "0       1     1       0.5       0.5\n",
              "1       1     2       1.0       0.0\n",
              "2       1     3       1.0       0.0\n",
              "3       1     4       0.5       0.5\n",
              "4       1     5       1.0       0.0\n",
              "5       1     6       0.5       0.5\n",
              "6       1     7       1.0       0.0\n",
              "7       1     8       0.5       0.5\n",
              "8       1     9       1.0       0.0\n",
              "9       1    10       0.5       0.5\n",
              "10      1    11       0.5       0.5\n",
              "11      1    12       0.5       0.5\n",
              "12      2     1       0.0       1.0\n",
              "13      2     2       0.5       0.5\n",
              "14      2     3       0.5       0.5"
            ],
            "text/html": [
              "\n",
              "  <div id=\"df-d604263a-9235-4fcb-8da5-1e0f4afe5553\">\n",
              "    <div class=\"colab-df-container\">\n",
              "      <div>\n",
              "<style scoped>\n",
              "    .dataframe tbody tr th:only-of-type {\n",
              "        vertical-align: middle;\n",
              "    }\n",
              "\n",
              "    .dataframe tbody tr th {\n",
              "        vertical-align: top;\n",
              "    }\n",
              "\n",
              "    .dataframe thead th {\n",
              "        text-align: right;\n",
              "    }\n",
              "</style>\n",
              "<table border=\"1\" class=\"dataframe\">\n",
              "  <thead>\n",
              "    <tr style=\"text-align: right;\">\n",
              "      <th></th>\n",
              "      <th>osoba</th>\n",
              "      <th>para</th>\n",
              "      <th>obiekt_A</th>\n",
              "      <th>obiekt_B</th>\n",
              "    </tr>\n",
              "  </thead>\n",
              "  <tbody>\n",
              "    <tr>\n",
              "      <th>0</th>\n",
              "      <td>1</td>\n",
              "      <td>1</td>\n",
              "      <td>0.5</td>\n",
              "      <td>0.5</td>\n",
              "    </tr>\n",
              "    <tr>\n",
              "      <th>1</th>\n",
              "      <td>1</td>\n",
              "      <td>2</td>\n",
              "      <td>1.0</td>\n",
              "      <td>0.0</td>\n",
              "    </tr>\n",
              "    <tr>\n",
              "      <th>2</th>\n",
              "      <td>1</td>\n",
              "      <td>3</td>\n",
              "      <td>1.0</td>\n",
              "      <td>0.0</td>\n",
              "    </tr>\n",
              "    <tr>\n",
              "      <th>3</th>\n",
              "      <td>1</td>\n",
              "      <td>4</td>\n",
              "      <td>0.5</td>\n",
              "      <td>0.5</td>\n",
              "    </tr>\n",
              "    <tr>\n",
              "      <th>4</th>\n",
              "      <td>1</td>\n",
              "      <td>5</td>\n",
              "      <td>1.0</td>\n",
              "      <td>0.0</td>\n",
              "    </tr>\n",
              "    <tr>\n",
              "      <th>5</th>\n",
              "      <td>1</td>\n",
              "      <td>6</td>\n",
              "      <td>0.5</td>\n",
              "      <td>0.5</td>\n",
              "    </tr>\n",
              "    <tr>\n",
              "      <th>6</th>\n",
              "      <td>1</td>\n",
              "      <td>7</td>\n",
              "      <td>1.0</td>\n",
              "      <td>0.0</td>\n",
              "    </tr>\n",
              "    <tr>\n",
              "      <th>7</th>\n",
              "      <td>1</td>\n",
              "      <td>8</td>\n",
              "      <td>0.5</td>\n",
              "      <td>0.5</td>\n",
              "    </tr>\n",
              "    <tr>\n",
              "      <th>8</th>\n",
              "      <td>1</td>\n",
              "      <td>9</td>\n",
              "      <td>1.0</td>\n",
              "      <td>0.0</td>\n",
              "    </tr>\n",
              "    <tr>\n",
              "      <th>9</th>\n",
              "      <td>1</td>\n",
              "      <td>10</td>\n",
              "      <td>0.5</td>\n",
              "      <td>0.5</td>\n",
              "    </tr>\n",
              "    <tr>\n",
              "      <th>10</th>\n",
              "      <td>1</td>\n",
              "      <td>11</td>\n",
              "      <td>0.5</td>\n",
              "      <td>0.5</td>\n",
              "    </tr>\n",
              "    <tr>\n",
              "      <th>11</th>\n",
              "      <td>1</td>\n",
              "      <td>12</td>\n",
              "      <td>0.5</td>\n",
              "      <td>0.5</td>\n",
              "    </tr>\n",
              "    <tr>\n",
              "      <th>12</th>\n",
              "      <td>2</td>\n",
              "      <td>1</td>\n",
              "      <td>0.0</td>\n",
              "      <td>1.0</td>\n",
              "    </tr>\n",
              "    <tr>\n",
              "      <th>13</th>\n",
              "      <td>2</td>\n",
              "      <td>2</td>\n",
              "      <td>0.5</td>\n",
              "      <td>0.5</td>\n",
              "    </tr>\n",
              "    <tr>\n",
              "      <th>14</th>\n",
              "      <td>2</td>\n",
              "      <td>3</td>\n",
              "      <td>0.5</td>\n",
              "      <td>0.5</td>\n",
              "    </tr>\n",
              "  </tbody>\n",
              "</table>\n",
              "</div>\n",
              "      <button class=\"colab-df-convert\" onclick=\"convertToInteractive('df-d604263a-9235-4fcb-8da5-1e0f4afe5553')\"\n",
              "              title=\"Convert this dataframe to an interactive table.\"\n",
              "              style=\"display:none;\">\n",
              "        \n",
              "  <svg xmlns=\"http://www.w3.org/2000/svg\" height=\"24px\"viewBox=\"0 0 24 24\"\n",
              "       width=\"24px\">\n",
              "    <path d=\"M0 0h24v24H0V0z\" fill=\"none\"/>\n",
              "    <path d=\"M18.56 5.44l.94 2.06.94-2.06 2.06-.94-2.06-.94-.94-2.06-.94 2.06-2.06.94zm-11 1L8.5 8.5l.94-2.06 2.06-.94-2.06-.94L8.5 2.5l-.94 2.06-2.06.94zm10 10l.94 2.06.94-2.06 2.06-.94-2.06-.94-.94-2.06-.94 2.06-2.06.94z\"/><path d=\"M17.41 7.96l-1.37-1.37c-.4-.4-.92-.59-1.43-.59-.52 0-1.04.2-1.43.59L10.3 9.45l-7.72 7.72c-.78.78-.78 2.05 0 2.83L4 21.41c.39.39.9.59 1.41.59.51 0 1.02-.2 1.41-.59l7.78-7.78 2.81-2.81c.8-.78.8-2.07 0-2.86zM5.41 20L4 18.59l7.72-7.72 1.47 1.35L5.41 20z\"/>\n",
              "  </svg>\n",
              "      </button>\n",
              "      \n",
              "  <style>\n",
              "    .colab-df-container {\n",
              "      display:flex;\n",
              "      flex-wrap:wrap;\n",
              "      gap: 12px;\n",
              "    }\n",
              "\n",
              "    .colab-df-convert {\n",
              "      background-color: #E8F0FE;\n",
              "      border: none;\n",
              "      border-radius: 50%;\n",
              "      cursor: pointer;\n",
              "      display: none;\n",
              "      fill: #1967D2;\n",
              "      height: 32px;\n",
              "      padding: 0 0 0 0;\n",
              "      width: 32px;\n",
              "    }\n",
              "\n",
              "    .colab-df-convert:hover {\n",
              "      background-color: #E2EBFA;\n",
              "      box-shadow: 0px 1px 2px rgba(60, 64, 67, 0.3), 0px 1px 3px 1px rgba(60, 64, 67, 0.15);\n",
              "      fill: #174EA6;\n",
              "    }\n",
              "\n",
              "    [theme=dark] .colab-df-convert {\n",
              "      background-color: #3B4455;\n",
              "      fill: #D2E3FC;\n",
              "    }\n",
              "\n",
              "    [theme=dark] .colab-df-convert:hover {\n",
              "      background-color: #434B5C;\n",
              "      box-shadow: 0px 1px 3px 1px rgba(0, 0, 0, 0.15);\n",
              "      filter: drop-shadow(0px 1px 2px rgba(0, 0, 0, 0.3));\n",
              "      fill: #FFFFFF;\n",
              "    }\n",
              "  </style>\n",
              "\n",
              "      <script>\n",
              "        const buttonEl =\n",
              "          document.querySelector('#df-d604263a-9235-4fcb-8da5-1e0f4afe5553 button.colab-df-convert');\n",
              "        buttonEl.style.display =\n",
              "          google.colab.kernel.accessAllowed ? 'block' : 'none';\n",
              "\n",
              "        async function convertToInteractive(key) {\n",
              "          const element = document.querySelector('#df-d604263a-9235-4fcb-8da5-1e0f4afe5553');\n",
              "          const dataTable =\n",
              "            await google.colab.kernel.invokeFunction('convertToInteractive',\n",
              "                                                     [key], {});\n",
              "          if (!dataTable) return;\n",
              "\n",
              "          const docLinkHtml = 'Like what you see? Visit the ' +\n",
              "            '<a target=\"_blank\" href=https://colab.research.google.com/notebooks/data_table.ipynb>data table notebook</a>'\n",
              "            + ' to learn more about interactive tables.';\n",
              "          element.innerHTML = '';\n",
              "          dataTable['output_type'] = 'display_data';\n",
              "          await google.colab.output.renderOutput(dataTable, element);\n",
              "          const docLink = document.createElement('div');\n",
              "          docLink.innerHTML = docLinkHtml;\n",
              "          element.appendChild(docLink);\n",
              "        }\n",
              "      </script>\n",
              "    </div>\n",
              "  </div>\n",
              "  "
            ]
          },
          "metadata": {}
        }
      ]
    },
    {
      "cell_type": "markdown",
      "source": [
        "**Określenie stabilności wskazań każdego eksperta** - parametr z1:\n",
        "\n",
        "Wartość krytyczną z=2 wzięto z [tablicy](http://math.uwb.edu.pl/~elam/TABLICE.pdf)"
      ],
      "metadata": {
        "id": "YJWWwTp_CPhq"
      }
    },
    {
      "cell_type": "code",
      "source": [
        "u = 86 #uczestnicy\n",
        "odrzucone = [] #lista osób do odrzucenia z dalszej analizy\n",
        "parametr_z1 = [] #wartości parametru z1 dla każdej osoby biorącej udział w teście\n",
        "\n",
        "for i in range(u):\n",
        " liczba_glosow_stablinosc = df.loc[df['osoba'] == i+1]\n",
        " #d(liczba_glosow_stablinosc)\n",
        " z = 0\n",
        " if liczba_glosow_stablinosc.loc[liczba_glosow_stablinosc['para']== 1]['obiekt_A'].values[0] != liczba_glosow_stablinosc.loc[liczba_glosow_stablinosc['para'] == 10]['obiekt_A'].values[0]:\n",
        "   z = z+1\n",
        " if liczba_glosow_stablinosc.loc[liczba_glosow_stablinosc['para'] == 2]['obiekt_A'].values[0] != liczba_glosow_stablinosc.loc[liczba_glosow_stablinosc['para'] == 12]['obiekt_A'].values[0]: \n",
        "   z = z+1\n",
        " if liczba_glosow_stablinosc.loc[liczba_glosow_stablinosc['para'] == 3]['obiekt_A'].values[0] != liczba_glosow_stablinosc.loc[liczba_glosow_stablinosc['para'] == 9]['obiekt_A'].values[0]:\n",
        "   z = z+1\n",
        " if liczba_glosow_stablinosc.loc[liczba_glosow_stablinosc['para'] == 4]['obiekt_A'].values[0] != liczba_glosow_stablinosc.loc[liczba_glosow_stablinosc['para'] == 11]['obiekt_A'].values[0]: \n",
        "   z = z+1 \n",
        " if liczba_glosow_stablinosc.loc[liczba_glosow_stablinosc['para'] == 5]['obiekt_A'].values[0] != liczba_glosow_stablinosc.loc[liczba_glosow_stablinosc['para'] == 7]['obiekt_A'].values[0]:\n",
        "   z = z+1\n",
        " if liczba_glosow_stablinosc.loc[liczba_glosow_stablinosc['para'] == 6]['obiekt_A'].values[0] != liczba_glosow_stablinosc.loc[liczba_glosow_stablinosc['para'] == 8]['obiekt_A'].values[0]: \n",
        "   z = z+1\n",
        " #print(\"Osoba nr\", i+1, \"wartość parametru z1:\", z)\n",
        " parametr_z1.append(z)\n",
        " if z>2:\n",
        "   odrzucone.append(i+1)\n",
        "\n",
        "# print(odrzucone)\n",
        "print(\"Z grupy uczestników liczącej\", u, \"osób nieistotnych odpowiedzi udzieliły\", len(odrzucone), \"osoby\")\n",
        "\n",
        "parametryz1 = pd.DataFrame(list(zip(df['osoba'].unique(), parametr_z1)), columns = [\"Osoby\", \"z1\"])\n",
        "d(parametryz1.head(10))\n"
      ],
      "metadata": {
        "colab": {
          "base_uri": "https://localhost:8080/",
          "height": 380
        },
        "id": "ThxDCdCHCY85",
        "outputId": "e9f20ec8-f4d0-4501-e051-4aa245c8bae9"
      },
      "execution_count": null,
      "outputs": [
        {
          "output_type": "stream",
          "name": "stdout",
          "text": [
            "Z grupy uczestników liczącej 86 osób nieistotnych odpowiedzi udzieliły 27 osoby\n"
          ]
        },
        {
          "output_type": "display_data",
          "data": {
            "text/plain": [
              "   Osoby  z1\n",
              "0      1   1\n",
              "1      2   1\n",
              "2      3   1\n",
              "3      4   0\n",
              "4      5   5\n",
              "5      6   3\n",
              "6      7   4\n",
              "7      8   1\n",
              "8      9   1\n",
              "9     10   0"
            ],
            "text/html": [
              "\n",
              "  <div id=\"df-1e50553f-d977-4356-9fd4-8d34e9cd3ffa\">\n",
              "    <div class=\"colab-df-container\">\n",
              "      <div>\n",
              "<style scoped>\n",
              "    .dataframe tbody tr th:only-of-type {\n",
              "        vertical-align: middle;\n",
              "    }\n",
              "\n",
              "    .dataframe tbody tr th {\n",
              "        vertical-align: top;\n",
              "    }\n",
              "\n",
              "    .dataframe thead th {\n",
              "        text-align: right;\n",
              "    }\n",
              "</style>\n",
              "<table border=\"1\" class=\"dataframe\">\n",
              "  <thead>\n",
              "    <tr style=\"text-align: right;\">\n",
              "      <th></th>\n",
              "      <th>Osoby</th>\n",
              "      <th>z1</th>\n",
              "    </tr>\n",
              "  </thead>\n",
              "  <tbody>\n",
              "    <tr>\n",
              "      <th>0</th>\n",
              "      <td>1</td>\n",
              "      <td>1</td>\n",
              "    </tr>\n",
              "    <tr>\n",
              "      <th>1</th>\n",
              "      <td>2</td>\n",
              "      <td>1</td>\n",
              "    </tr>\n",
              "    <tr>\n",
              "      <th>2</th>\n",
              "      <td>3</td>\n",
              "      <td>1</td>\n",
              "    </tr>\n",
              "    <tr>\n",
              "      <th>3</th>\n",
              "      <td>4</td>\n",
              "      <td>0</td>\n",
              "    </tr>\n",
              "    <tr>\n",
              "      <th>4</th>\n",
              "      <td>5</td>\n",
              "      <td>5</td>\n",
              "    </tr>\n",
              "    <tr>\n",
              "      <th>5</th>\n",
              "      <td>6</td>\n",
              "      <td>3</td>\n",
              "    </tr>\n",
              "    <tr>\n",
              "      <th>6</th>\n",
              "      <td>7</td>\n",
              "      <td>4</td>\n",
              "    </tr>\n",
              "    <tr>\n",
              "      <th>7</th>\n",
              "      <td>8</td>\n",
              "      <td>1</td>\n",
              "    </tr>\n",
              "    <tr>\n",
              "      <th>8</th>\n",
              "      <td>9</td>\n",
              "      <td>1</td>\n",
              "    </tr>\n",
              "    <tr>\n",
              "      <th>9</th>\n",
              "      <td>10</td>\n",
              "      <td>0</td>\n",
              "    </tr>\n",
              "  </tbody>\n",
              "</table>\n",
              "</div>\n",
              "      <button class=\"colab-df-convert\" onclick=\"convertToInteractive('df-1e50553f-d977-4356-9fd4-8d34e9cd3ffa')\"\n",
              "              title=\"Convert this dataframe to an interactive table.\"\n",
              "              style=\"display:none;\">\n",
              "        \n",
              "  <svg xmlns=\"http://www.w3.org/2000/svg\" height=\"24px\"viewBox=\"0 0 24 24\"\n",
              "       width=\"24px\">\n",
              "    <path d=\"M0 0h24v24H0V0z\" fill=\"none\"/>\n",
              "    <path d=\"M18.56 5.44l.94 2.06.94-2.06 2.06-.94-2.06-.94-.94-2.06-.94 2.06-2.06.94zm-11 1L8.5 8.5l.94-2.06 2.06-.94-2.06-.94L8.5 2.5l-.94 2.06-2.06.94zm10 10l.94 2.06.94-2.06 2.06-.94-2.06-.94-.94-2.06-.94 2.06-2.06.94z\"/><path d=\"M17.41 7.96l-1.37-1.37c-.4-.4-.92-.59-1.43-.59-.52 0-1.04.2-1.43.59L10.3 9.45l-7.72 7.72c-.78.78-.78 2.05 0 2.83L4 21.41c.39.39.9.59 1.41.59.51 0 1.02-.2 1.41-.59l7.78-7.78 2.81-2.81c.8-.78.8-2.07 0-2.86zM5.41 20L4 18.59l7.72-7.72 1.47 1.35L5.41 20z\"/>\n",
              "  </svg>\n",
              "      </button>\n",
              "      \n",
              "  <style>\n",
              "    .colab-df-container {\n",
              "      display:flex;\n",
              "      flex-wrap:wrap;\n",
              "      gap: 12px;\n",
              "    }\n",
              "\n",
              "    .colab-df-convert {\n",
              "      background-color: #E8F0FE;\n",
              "      border: none;\n",
              "      border-radius: 50%;\n",
              "      cursor: pointer;\n",
              "      display: none;\n",
              "      fill: #1967D2;\n",
              "      height: 32px;\n",
              "      padding: 0 0 0 0;\n",
              "      width: 32px;\n",
              "    }\n",
              "\n",
              "    .colab-df-convert:hover {\n",
              "      background-color: #E2EBFA;\n",
              "      box-shadow: 0px 1px 2px rgba(60, 64, 67, 0.3), 0px 1px 3px 1px rgba(60, 64, 67, 0.15);\n",
              "      fill: #174EA6;\n",
              "    }\n",
              "\n",
              "    [theme=dark] .colab-df-convert {\n",
              "      background-color: #3B4455;\n",
              "      fill: #D2E3FC;\n",
              "    }\n",
              "\n",
              "    [theme=dark] .colab-df-convert:hover {\n",
              "      background-color: #434B5C;\n",
              "      box-shadow: 0px 1px 3px 1px rgba(0, 0, 0, 0.15);\n",
              "      filter: drop-shadow(0px 1px 2px rgba(0, 0, 0, 0.3));\n",
              "      fill: #FFFFFF;\n",
              "    }\n",
              "  </style>\n",
              "\n",
              "      <script>\n",
              "        const buttonEl =\n",
              "          document.querySelector('#df-1e50553f-d977-4356-9fd4-8d34e9cd3ffa button.colab-df-convert');\n",
              "        buttonEl.style.display =\n",
              "          google.colab.kernel.accessAllowed ? 'block' : 'none';\n",
              "\n",
              "        async function convertToInteractive(key) {\n",
              "          const element = document.querySelector('#df-1e50553f-d977-4356-9fd4-8d34e9cd3ffa');\n",
              "          const dataTable =\n",
              "            await google.colab.kernel.invokeFunction('convertToInteractive',\n",
              "                                                     [key], {});\n",
              "          if (!dataTable) return;\n",
              "\n",
              "          const docLinkHtml = 'Like what you see? Visit the ' +\n",
              "            '<a target=\"_blank\" href=https://colab.research.google.com/notebooks/data_table.ipynb>data table notebook</a>'\n",
              "            + ' to learn more about interactive tables.';\n",
              "          element.innerHTML = '';\n",
              "          dataTable['output_type'] = 'display_data';\n",
              "          await google.colab.output.renderOutput(dataTable, element);\n",
              "          const docLink = document.createElement('div');\n",
              "          docLink.innerHTML = docLinkHtml;\n",
              "          element.appendChild(docLink);\n",
              "        }\n",
              "      </script>\n",
              "    </div>\n",
              "  </div>\n",
              "  "
            ]
          },
          "metadata": {}
        }
      ]
    },
    {
      "cell_type": "markdown",
      "source": [
        "Usunięcie z dalszej analizy osób, których odpowiedzi nie są istotne statystycznie:"
      ],
      "metadata": {
        "id": "nGtaX__ikNJz"
      }
    },
    {
      "cell_type": "code",
      "source": [
        "df2 = df[df.osoba.isin(odrzucone) == False]\n",
        "d(df2.head())"
      ],
      "metadata": {
        "colab": {
          "base_uri": "https://localhost:8080/",
          "height": 206
        },
        "id": "e7eE6CYqk_m2",
        "outputId": "66b5fb0c-8c05-41e5-bd53-14345c07f272"
      },
      "execution_count": null,
      "outputs": [
        {
          "output_type": "display_data",
          "data": {
            "text/plain": [
              "   osoba  para  obiekt_A  obiekt_B\n",
              "0      1     1       0.5       0.5\n",
              "1      1     2       1.0       0.0\n",
              "2      1     3       1.0       0.0\n",
              "3      1     4       0.5       0.5\n",
              "4      1     5       1.0       0.0"
            ],
            "text/html": [
              "\n",
              "  <div id=\"df-f108a896-25c2-46a0-920a-13f4f2df59b4\">\n",
              "    <div class=\"colab-df-container\">\n",
              "      <div>\n",
              "<style scoped>\n",
              "    .dataframe tbody tr th:only-of-type {\n",
              "        vertical-align: middle;\n",
              "    }\n",
              "\n",
              "    .dataframe tbody tr th {\n",
              "        vertical-align: top;\n",
              "    }\n",
              "\n",
              "    .dataframe thead th {\n",
              "        text-align: right;\n",
              "    }\n",
              "</style>\n",
              "<table border=\"1\" class=\"dataframe\">\n",
              "  <thead>\n",
              "    <tr style=\"text-align: right;\">\n",
              "      <th></th>\n",
              "      <th>osoba</th>\n",
              "      <th>para</th>\n",
              "      <th>obiekt_A</th>\n",
              "      <th>obiekt_B</th>\n",
              "    </tr>\n",
              "  </thead>\n",
              "  <tbody>\n",
              "    <tr>\n",
              "      <th>0</th>\n",
              "      <td>1</td>\n",
              "      <td>1</td>\n",
              "      <td>0.5</td>\n",
              "      <td>0.5</td>\n",
              "    </tr>\n",
              "    <tr>\n",
              "      <th>1</th>\n",
              "      <td>1</td>\n",
              "      <td>2</td>\n",
              "      <td>1.0</td>\n",
              "      <td>0.0</td>\n",
              "    </tr>\n",
              "    <tr>\n",
              "      <th>2</th>\n",
              "      <td>1</td>\n",
              "      <td>3</td>\n",
              "      <td>1.0</td>\n",
              "      <td>0.0</td>\n",
              "    </tr>\n",
              "    <tr>\n",
              "      <th>3</th>\n",
              "      <td>1</td>\n",
              "      <td>4</td>\n",
              "      <td>0.5</td>\n",
              "      <td>0.5</td>\n",
              "    </tr>\n",
              "    <tr>\n",
              "      <th>4</th>\n",
              "      <td>1</td>\n",
              "      <td>5</td>\n",
              "      <td>1.0</td>\n",
              "      <td>0.0</td>\n",
              "    </tr>\n",
              "  </tbody>\n",
              "</table>\n",
              "</div>\n",
              "      <button class=\"colab-df-convert\" onclick=\"convertToInteractive('df-f108a896-25c2-46a0-920a-13f4f2df59b4')\"\n",
              "              title=\"Convert this dataframe to an interactive table.\"\n",
              "              style=\"display:none;\">\n",
              "        \n",
              "  <svg xmlns=\"http://www.w3.org/2000/svg\" height=\"24px\"viewBox=\"0 0 24 24\"\n",
              "       width=\"24px\">\n",
              "    <path d=\"M0 0h24v24H0V0z\" fill=\"none\"/>\n",
              "    <path d=\"M18.56 5.44l.94 2.06.94-2.06 2.06-.94-2.06-.94-.94-2.06-.94 2.06-2.06.94zm-11 1L8.5 8.5l.94-2.06 2.06-.94-2.06-.94L8.5 2.5l-.94 2.06-2.06.94zm10 10l.94 2.06.94-2.06 2.06-.94-2.06-.94-.94-2.06-.94 2.06-2.06.94z\"/><path d=\"M17.41 7.96l-1.37-1.37c-.4-.4-.92-.59-1.43-.59-.52 0-1.04.2-1.43.59L10.3 9.45l-7.72 7.72c-.78.78-.78 2.05 0 2.83L4 21.41c.39.39.9.59 1.41.59.51 0 1.02-.2 1.41-.59l7.78-7.78 2.81-2.81c.8-.78.8-2.07 0-2.86zM5.41 20L4 18.59l7.72-7.72 1.47 1.35L5.41 20z\"/>\n",
              "  </svg>\n",
              "      </button>\n",
              "      \n",
              "  <style>\n",
              "    .colab-df-container {\n",
              "      display:flex;\n",
              "      flex-wrap:wrap;\n",
              "      gap: 12px;\n",
              "    }\n",
              "\n",
              "    .colab-df-convert {\n",
              "      background-color: #E8F0FE;\n",
              "      border: none;\n",
              "      border-radius: 50%;\n",
              "      cursor: pointer;\n",
              "      display: none;\n",
              "      fill: #1967D2;\n",
              "      height: 32px;\n",
              "      padding: 0 0 0 0;\n",
              "      width: 32px;\n",
              "    }\n",
              "\n",
              "    .colab-df-convert:hover {\n",
              "      background-color: #E2EBFA;\n",
              "      box-shadow: 0px 1px 2px rgba(60, 64, 67, 0.3), 0px 1px 3px 1px rgba(60, 64, 67, 0.15);\n",
              "      fill: #174EA6;\n",
              "    }\n",
              "\n",
              "    [theme=dark] .colab-df-convert {\n",
              "      background-color: #3B4455;\n",
              "      fill: #D2E3FC;\n",
              "    }\n",
              "\n",
              "    [theme=dark] .colab-df-convert:hover {\n",
              "      background-color: #434B5C;\n",
              "      box-shadow: 0px 1px 3px 1px rgba(0, 0, 0, 0.15);\n",
              "      filter: drop-shadow(0px 1px 2px rgba(0, 0, 0, 0.3));\n",
              "      fill: #FFFFFF;\n",
              "    }\n",
              "  </style>\n",
              "\n",
              "      <script>\n",
              "        const buttonEl =\n",
              "          document.querySelector('#df-f108a896-25c2-46a0-920a-13f4f2df59b4 button.colab-df-convert');\n",
              "        buttonEl.style.display =\n",
              "          google.colab.kernel.accessAllowed ? 'block' : 'none';\n",
              "\n",
              "        async function convertToInteractive(key) {\n",
              "          const element = document.querySelector('#df-f108a896-25c2-46a0-920a-13f4f2df59b4');\n",
              "          const dataTable =\n",
              "            await google.colab.kernel.invokeFunction('convertToInteractive',\n",
              "                                                     [key], {});\n",
              "          if (!dataTable) return;\n",
              "\n",
              "          const docLinkHtml = 'Like what you see? Visit the ' +\n",
              "            '<a target=\"_blank\" href=https://colab.research.google.com/notebooks/data_table.ipynb>data table notebook</a>'\n",
              "            + ' to learn more about interactive tables.';\n",
              "          element.innerHTML = '';\n",
              "          dataTable['output_type'] = 'display_data';\n",
              "          await google.colab.output.renderOutput(dataTable, element);\n",
              "          const docLink = document.createElement('div');\n",
              "          docLink.innerHTML = docLinkHtml;\n",
              "          element.appendChild(docLink);\n",
              "        }\n",
              "      </script>\n",
              "    </div>\n",
              "  </div>\n",
              "  "
            ]
          },
          "metadata": {}
        }
      ]
    },
    {
      "cell_type": "markdown",
      "source": [
        "Podział danych na dwie serie:"
      ],
      "metadata": {
        "id": "_ile8TEX25Ch"
      }
    },
    {
      "cell_type": "code",
      "source": [
        "dfseria1 = df2[df2.para < 7 ]\n",
        "dfseria2 = df2[df2.para > 6 ]"
      ],
      "metadata": {
        "id": "T9-SjWCB28_w"
      },
      "execution_count": null,
      "outputs": []
    },
    {
      "cell_type": "markdown",
      "source": [
        " Zsumowanie liczby głosów oddanych przez poszczególne osoby oceniające na każdy z obiektów osobno dla serii 1 i serii 2 oraz łączna suma:"
      ],
      "metadata": {
        "id": "TQJFZlz-mQ7H"
      }
    },
    {
      "cell_type": "code",
      "source": [
        "from matplotlib import pyplot as plt\n",
        "plt.rcParams[\"font.size\"]=15\n",
        "\n",
        "#dla serii 1:\n",
        "\n",
        "liczba_glosow_seria1 = dfseria1.groupby(by=\"osoba\").sum().reset_index()[[\"osoba\", \"obiekt_A\", \"obiekt_B\"]]\n",
        "liczba_glosow_seria1 = liczba_glosow_seria1.rename(columns={\"obiekt_A\": \"suma_glosow_A\", \"obiekt_B\": \"suma_glosow_B\"})\n",
        "\n",
        "#d(liczba_glosow_seria1.head())\n",
        "\n",
        "liczba_glosow_seria1.plot(x=\"osoba\", y={\"suma_glosow_A\",\"suma_glosow_B\"}, kind=\"bar\", color=['lightgreen', 'coral']) #stacked=True legend=False\n",
        "plt.rcParams[\"figure.figsize\"] = (20,6)\n",
        "plt.title(\"Liczba głosów oddana w serii 1 przez osoby biorące udział w ankiecie\", fontsize=20)\n",
        "plt.ylabel(\"Liczba głosów\")\n",
        "plt.xlabel(\"Numer ID uczestnika ankiety\")\n",
        "# plt.savefig('seria1.png')\n",
        "plt.legend(['rzeczywiste nagranie', 'wygenerowana animacja'], loc=((1.04, 0)));\n",
        "\n",
        "#dla serii 2:\n",
        "\n",
        "liczba_glosow_seria2 = dfseria2.groupby(by=\"osoba\").sum().reset_index()[[\"osoba\", \"obiekt_A\", \"obiekt_B\"]]\n",
        "liczba_glosow_seria2 = liczba_glosow_seria2.rename(columns={\"obiekt_A\": \"suma_glosow_A\", \"obiekt_B\": \"suma_glosow_B\"})\n",
        "\n",
        "liczba_glosow_seria2.plot(x=\"osoba\", y={\"suma_glosow_A\",\"suma_glosow_B\"}, kind=\"bar\", color=['lightgreen', 'coral']) #stacked=True\n",
        "plt.rcParams[\"figure.figsize\"] = (20,6)\n",
        "plt.title(\"Liczba głosów oddana w serii 2 przez osoby biorące udział w ankiecie\", fontsize=20)\n",
        "plt.ylabel(\"Liczba głosów\")\n",
        "plt.xlabel(\"Numer ID uczestnika ankiety\")\n",
        "plt.legend(['rzeczywiste nagranie', 'wygenerowana animacja'], loc=((1.04, 0)));\n",
        "# plt.savefig('seria2.png')\n",
        "\n",
        "#dla obu serii łącznie:\n",
        "\n",
        "liczba_glosow_razem = df2.groupby(by=\"osoba\").sum().reset_index()[[\"osoba\", \"obiekt_A\", \"obiekt_B\"]]\n",
        "liczba_glosow_razem = liczba_glosow_razem.rename(columns={\"obiekt_A\": \"suma_glosow_A\", \"obiekt_B\": \"suma_glosow_B\"})\n",
        "\n",
        "liczba_glosow_razem.plot(x=\"osoba\", y={\"suma_glosow_A\",\"suma_glosow_B\"}, kind=\"bar\", color=['lightgreen', 'coral']) #stacked=True\n",
        "plt.rcParams[\"figure.figsize\"] = (20,6)\n",
        "plt.title(\"Liczba głosów oddana w w obu seriach przez osoby biorące udział w ankiecie\", fontsize=20)\n",
        "plt.ylabel(\"Liczba głosów\")\n",
        "plt.xlabel(\"Numer ID uczestnika ankiety\")\n",
        "plt.legend(['rzeczywiste nagranie', 'wygenerowana animacja'], loc=((1.04, 0)));\n",
        "# plt.savefig('lacznie.png')"
      ],
      "metadata": {
        "colab": {
          "base_uri": "https://localhost:8080/",
          "height": 1000
        },
        "id": "P81s-sxzmQHe",
        "outputId": "d7976fc8-8d78-495e-eb1c-946d32403e23"
      },
      "execution_count": null,
      "outputs": [
        {
          "output_type": "display_data",
          "data": {
            "text/plain": [
              "<Figure size 432x288 with 1 Axes>"
            ],
            "image/png": "[encoded data removed]"
          },
          "metadata": {
            "needs_background": "light"
          }
        },
        {
          "output_type": "display_data",
          "data": {
            "text/plain": [
              "<Figure size 1440x432 with 1 Axes>"
            ],
            "image/png": "[encoded data removed]"
          },
          "metadata": {
            "needs_background": "light"
          }
        },
        {
          "output_type": "display_data",
          "data": {
            "text/plain": [
              "<Figure size 1440x432 with 1 Axes>"
            ],
            "image/png": "[encoded data removed]"
          },
          "metadata": {
            "needs_background": "light"
          }
        }
      ]
    },
    {
      "cell_type": "markdown",
      "source": [
        "Wykreślenie wykresów różnicowych:"
      ],
      "metadata": {
        "id": "ZVyl3QFKOvEg"
      }
    },
    {
      "cell_type": "code",
      "source": [
        "df_to_plot1['a_to_b'] = ((df_to_plot1['suma_glosow_A'] - df_to_plot1['suma_glosow_B']))\n",
        "df_to_plot1 = df_to_plot1.sort_values(by = ['a_to_b'], ascending=False)\n",
        "df_to_plot1.plot.bar(x = 'osoba', y = 'a_to_b')"
      ],
      "metadata": {
        "id": "tq9KReMZOivV"
      },
      "execution_count": null,
      "outputs": []
    },
    {
      "cell_type": "code",
      "source": [
        "import numpy as np\n",
        "import matplotlib.pyplot as plt\n",
        "\n",
        "x = np.arange(0, len(df_to_plot1.osoba))\n",
        "y = df_to_plot1['a_to_b'].to_numpy()\n",
        "x_ticks_labels = df_to_plot1['osoba'].to_numpy()\n",
        "\n",
        "plt.style.use('ggplot')\n",
        "fig, ax = plt.subplots(1,1) \n",
        "ax.stem(x,y)\n",
        "plt.xticks(x)\n",
        "ax.set_xticklabels(x_ticks_labels, rotation='vertical', fontsize=10)\n",
        "plt.title(\"Posegregowana różnica ocen pomiędzy głosami na zdjęcia prawdziwe i wygenerowane dla serii pierwszej\")\n",
        "ax.set_ylabel('różnica ocen pomiędzy głosami na zdjęcia prawdziwe i wygenerowane')\n",
        "ax.set_xlabel('id uczestnika badania')\n",
        "plt.show()"
      ],
      "metadata": {
        "id": "NB3CtrEZOoeQ"
      },
      "execution_count": null,
      "outputs": []
    },
    {
      "cell_type": "code",
      "source": [
        "df_to_plot2['a_to_b'] = ((df_to_plot2['suma_glosow_A'] - df_to_plot2['suma_glosow_B']))\n",
        "sorter = df_to_plot1['osoba'].to_list()\n",
        "df_to_plot2.osoba = df_to_plot2.osoba.astype(\"category\")\n",
        "df_to_plot2.osoba = df_to_plot2.osoba.cat.set_categories(sorter)\n",
        "df_to_plot2 = df_to_plot2.sort_values(by = ['osoba'], ascending=[sorter])\n",
        "\n",
        "x = np.arange(0, len(df_to_plot2.osoba))\n",
        "y = df_to_plot2['a_to_b'].to_numpy()\n",
        "x_ticks_labels = df_to_plot2['osoba'].to_numpy()\n",
        "\n",
        "plt.style.use('ggplot')\n",
        "fig, ax = plt.subplots(1,1) \n",
        "ax.stem(x,y)\n",
        "plt.xticks(x)\n",
        "ax.set_xticklabels(x_ticks_labels, rotation='vertical', fontsize=10)\n",
        "plt.title(\"Różnice preferencji uczestników badania dla serii drugiej posegregowane wg. serii pierwszej\")\n",
        "ax.set_ylabel('różnica ocen pomiędzy głosami na zdjęcia prawdziwe i wygenerowane')\n",
        "ax.set_xlabel('id uczestnika badania')\n",
        "plt.show()\n",
        "plt.savefig('AB_seria2.png')"
      ],
      "metadata": {
        "id": "LKNfgFOzOpvN"
      },
      "execution_count": null,
      "outputs": []
    },
    {
      "cell_type": "markdown",
      "source": [
        "Wyznaczenie sumy głosów oddanych na każdy obiekt przez\n",
        "wszystkich ankietujących (osobno dla serii 1, 2 oraz łączna):"
      ],
      "metadata": {
        "id": "z1Ab2ElV6U9N"
      }
    },
    {
      "cell_type": "code",
      "source": [
        "#seria 1\n",
        "\n",
        "wszystkie_glosy_seria1 = dfseria1.sum()\n",
        "\n",
        "plt.barh([\"Prawdziwe filmy\", \"Wygenerowane filmy\"], [wszystkie_glosy_seria1.obiekt_A, wszystkie_glosy_seria1.obiekt_B], align='center', color=['lightgreen', 'coral'])\n",
        "plt.title(\"Łączna liczba głosów w serii 1\", fontsize=20)\n",
        "plt.xlabel(\"Liczba głosów\")\n",
        "plt.rcParams[\"figure.figsize\"] = (10,2)\n",
        "\n",
        "#seria 2\n",
        "\n",
        "wszystkie_glosy_seria2 = dfseria2.sum()\n",
        "\n",
        "# plt.barh([\"Prawdziwe filmy\", \"Wygenerowane filmy\"], [wszystkie_glosy_seria2.obiekt_A, wszystkie_glosy_seria2.obiekt_B], align='center', color=['lightgreen', 'coral'])\n",
        "# plt.title(\"Łączna liczba głosów w serii 2\", fontsize=20)\n",
        "# plt.xlabel(\"Liczba głosów\")\n",
        "# plt.rcParams[\"figure.figsize\"] = (10,2)\n",
        "\n",
        "#łącznie dla obu serii\n",
        "\n",
        "wszystkie_glosy = df2.sum()\n",
        "#d(wszystkie_glosy[{\"obiekt_A\", \"obiekt_B\"}])\n",
        "#print(wszystkie_glosy.obiekt_B)\n",
        "\n",
        "# plt.barh([\"Prawdziwe filmy\", \"Wygenerowane filmy\"], [wszystkie_glosy.obiekt_A, wszystkie_glosy.obiekt_B], align='center', color=['lightgreen', 'coral'])\n",
        "# plt.title(\"Łączna liczba głosów\", fontsize=20)\n",
        "# plt.xlabel(\"Liczba głosów\")\n",
        "# plt.rcParams[\"figure.figsize\"] = (10,2)\n",
        "\n",
        "print(wszystkie_glosy_seria1.obiekt_A, wszystkie_glosy_seria1.obiekt_B)\n",
        "print(wszystkie_glosy_seria2.obiekt_A, wszystkie_glosy_seria2.obiekt_B)\n"
      ],
      "metadata": {
        "colab": {
          "base_uri": "https://localhost:8080/",
          "height": 456
        },
        "id": "jCXvW8Mn6Xkf",
        "outputId": "13332c87-bff7-4cb8-e582-9f46816498c2"
      },
      "execution_count": null,
      "outputs": [
        {
          "output_type": "stream",
          "name": "stdout",
          "text": [
            "188.0 166.0\n",
            "183.0 171.0\n"
          ]
        },
        {
          "output_type": "display_data",
          "data": {
            "text/plain": [
              "<Figure size 1440x432 with 1 Axes>"
            ],
            "image/png": "[encoded data removed]"
          },
          "metadata": {
            "needs_background": "light"
          }
        }
      ]
    },
    {
      "cell_type": "markdown",
      "source": [
        "Wyznaczenie liczby głosów uzyskanych przez obiekt A i B dla każdej pary osobno:"
      ],
      "metadata": {
        "id": "n1eHsf08C8Lm"
      }
    },
    {
      "cell_type": "code",
      "source": [
        "liczba_glosow_seria1 = dfseria1.groupby(by=\"para\").sum().reset_index()[[\"obiekt_A\", \"obiekt_B\", \"para\"]]\n",
        "liczba_glosow_seria1 = liczba_glosow_seria1.rename(columns={\"obiekt_A\": \"suma_glosow_A\", \"obiekt_B\": \"suma_glosow_B\"})\n",
        "d(liczba_glosow_seria1)\n",
        "\n",
        "liczba_glosow_seria2 = dfseria2.groupby(by=\"para\").sum().reset_index()[[\"obiekt_A\", \"obiekt_B\", \"para\"]]\n",
        "liczba_glosow_seria2 = liczba_glosow_seria2.rename(columns={\"obiekt_A\": \"suma_glosow_A\", \"obiekt_B\": \"suma_glosow_B\"})\n",
        "liczba_glosow_seria2 = liczba_glosow_seria2.reindex([3, 5, 2, 4, 0, 1])\n",
        "d(liczba_glosow_seria2)\n",
        "\n",
        "liczba_glosow_seria1.plot(x=\"para\", y={\"suma_glosow_A\",\"suma_glosow_B\"}, kind=\"bar\", color=['lightgreen', 'coral'], legend=False) #stacked=True\n",
        "plt.rcParams[\"figure.figsize\"] = (10,5)\n",
        "plt.title(\"Porównanie głosów oddanych na obiekty z każdej pary w serii 1\")\n",
        "plt.ylabel(\"Liczba głosów\")\n",
        "plt.xlabel(\"Testowana para\")\n",
        "# plt.legend(['wygenerowana animacja', 'rzeczywiste nagranie'], loc=((1.04, 0)));\n",
        "\n",
        "# liczba_glosow_seria2.plot(x=\"para\", y={\"suma_glosow_A\",\"suma_glosow_B\"}, kind=\"bar\", color=['lightgreen', 'coral'], legend=False) #stacked=True\n",
        "# plt.rcParams[\"figure.figsize\"] = (10,5)\n",
        "# plt.title(\"Porównanie głosów oddanych na obiekty z każdej pary w serii 2\")\n",
        "# plt.ylabel(\"Liczba głosów\")\n",
        "# plt.xlabel(\"Testowana para\")\n",
        "# plt.legend(['rzeczywiste zdjęcie', 'wygenerowane zdjęcie'], loc=((1.04, 0)));\n",
        "\n",
        "\n"
      ],
      "metadata": {
        "colab": {
          "base_uri": "https://localhost:8080/",
          "height": 817
        },
        "id": "K9qvfHISHNSr",
        "outputId": "26198f62-d211-4438-8d67-c607aab36f29"
      },
      "execution_count": null,
      "outputs": [
        {
          "output_type": "display_data",
          "data": {
            "text/plain": [
              "   suma_glosow_A  suma_glosow_B  para\n",
              "0           23.5           35.5     1\n",
              "1           32.5           26.5     2\n",
              "2           40.5           18.5     3\n",
              "3           41.5           17.5     4\n",
              "4           21.0           38.0     5\n",
              "5           29.0           30.0     6"
            ],
            "text/html": [
              "\n",
              "  <div id=\"df-d9159b91-f82b-4d20-bd2e-1d32e59b3104\">\n",
              "    <div class=\"colab-df-container\">\n",
              "      <div>\n",
              "<style scoped>\n",
              "    .dataframe tbody tr th:only-of-type {\n",
              "        vertical-align: middle;\n",
              "    }\n",
              "\n",
              "    .dataframe tbody tr th {\n",
              "        vertical-align: top;\n",
              "    }\n",
              "\n",
              "    .dataframe thead th {\n",
              "        text-align: right;\n",
              "    }\n",
              "</style>\n",
              "<table border=\"1\" class=\"dataframe\">\n",
              "  <thead>\n",
              "    <tr style=\"text-align: right;\">\n",
              "      <th></th>\n",
              "      <th>suma_glosow_A</th>\n",
              "      <th>suma_glosow_B</th>\n",
              "      <th>para</th>\n",
              "    </tr>\n",
              "  </thead>\n",
              "  <tbody>\n",
              "    <tr>\n",
              "      <th>0</th>\n",
              "      <td>23.5</td>\n",
              "      <td>35.5</td>\n",
              "      <td>1</td>\n",
              "    </tr>\n",
              "    <tr>\n",
              "      <th>1</th>\n",
              "      <td>32.5</td>\n",
              "      <td>26.5</td>\n",
              "      <td>2</td>\n",
              "    </tr>\n",
              "    <tr>\n",
              "      <th>2</th>\n",
              "      <td>40.5</td>\n",
              "      <td>18.5</td>\n",
              "      <td>3</td>\n",
              "    </tr>\n",
              "    <tr>\n",
              "      <th>3</th>\n",
              "      <td>41.5</td>\n",
              "      <td>17.5</td>\n",
              "      <td>4</td>\n",
              "    </tr>\n",
              "    <tr>\n",
              "      <th>4</th>\n",
              "      <td>21.0</td>\n",
              "      <td>38.0</td>\n",
              "      <td>5</td>\n",
              "    </tr>\n",
              "    <tr>\n",
              "      <th>5</th>\n",
              "      <td>29.0</td>\n",
              "      <td>30.0</td>\n",
              "      <td>6</td>\n",
              "    </tr>\n",
              "  </tbody>\n",
              "</table>\n",
              "</div>\n",
              "      <button class=\"colab-df-convert\" onclick=\"convertToInteractive('df-d9159b91-f82b-4d20-bd2e-1d32e59b3104')\"\n",
              "              title=\"Convert this dataframe to an interactive table.\"\n",
              "              style=\"display:none;\">\n",
              "        \n",
              "  <svg xmlns=\"http://www.w3.org/2000/svg\" height=\"24px\"viewBox=\"0 0 24 24\"\n",
              "       width=\"24px\">\n",
              "    <path d=\"M0 0h24v24H0V0z\" fill=\"none\"/>\n",
              "    <path d=\"M18.56 5.44l.94 2.06.94-2.06 2.06-.94-2.06-.94-.94-2.06-.94 2.06-2.06.94zm-11 1L8.5 8.5l.94-2.06 2.06-.94-2.06-.94L8.5 2.5l-.94 2.06-2.06.94zm10 10l.94 2.06.94-2.06 2.06-.94-2.06-.94-.94-2.06-.94 2.06-2.06.94z\"/><path d=\"M17.41 7.96l-1.37-1.37c-.4-.4-.92-.59-1.43-.59-.52 0-1.04.2-1.43.59L10.3 9.45l-7.72 7.72c-.78.78-.78 2.05 0 2.83L4 21.41c.39.39.9.59 1.41.59.51 0 1.02-.2 1.41-.59l7.78-7.78 2.81-2.81c.8-.78.8-2.07 0-2.86zM5.41 20L4 18.59l7.72-7.72 1.47 1.35L5.41 20z\"/>\n",
              "  </svg>\n",
              "      </button>\n",
              "      \n",
              "  <style>\n",
              "    .colab-df-container {\n",
              "      display:flex;\n",
              "      flex-wrap:wrap;\n",
              "      gap: 12px;\n",
              "    }\n",
              "\n",
              "    .colab-df-convert {\n",
              "      background-color: #E8F0FE;\n",
              "      border: none;\n",
              "      border-radius: 50%;\n",
              "      cursor: pointer;\n",
              "      display: none;\n",
              "      fill: #1967D2;\n",
              "      height: 32px;\n",
              "      padding: 0 0 0 0;\n",
              "      width: 32px;\n",
              "    }\n",
              "\n",
              "    .colab-df-convert:hover {\n",
              "      background-color: #E2EBFA;\n",
              "      box-shadow: 0px 1px 2px rgba(60, 64, 67, 0.3), 0px 1px 3px 1px rgba(60, 64, 67, 0.15);\n",
              "      fill: #174EA6;\n",
              "    }\n",
              "\n",
              "    [theme=dark] .colab-df-convert {\n",
              "      background-color: #3B4455;\n",
              "      fill: #D2E3FC;\n",
              "    }\n",
              "\n",
              "    [theme=dark] .colab-df-convert:hover {\n",
              "      background-color: #434B5C;\n",
              "      box-shadow: 0px 1px 3px 1px rgba(0, 0, 0, 0.15);\n",
              "      filter: drop-shadow(0px 1px 2px rgba(0, 0, 0, 0.3));\n",
              "      fill: #FFFFFF;\n",
              "    }\n",
              "  </style>\n",
              "\n",
              "      <script>\n",
              "        const buttonEl =\n",
              "          document.querySelector('#df-d9159b91-f82b-4d20-bd2e-1d32e59b3104 button.colab-df-convert');\n",
              "        buttonEl.style.display =\n",
              "          google.colab.kernel.accessAllowed ? 'block' : 'none';\n",
              "\n",
              "        async function convertToInteractive(key) {\n",
              "          const element = document.querySelector('#df-d9159b91-f82b-4d20-bd2e-1d32e59b3104');\n",
              "          const dataTable =\n",
              "            await google.colab.kernel.invokeFunction('convertToInteractive',\n",
              "                                                     [key], {});\n",
              "          if (!dataTable) return;\n",
              "\n",
              "          const docLinkHtml = 'Like what you see? Visit the ' +\n",
              "            '<a target=\"_blank\" href=https://colab.research.google.com/notebooks/data_table.ipynb>data table notebook</a>'\n",
              "            + ' to learn more about interactive tables.';\n",
              "          element.innerHTML = '';\n",
              "          dataTable['output_type'] = 'display_data';\n",
              "          await google.colab.output.renderOutput(dataTable, element);\n",
              "          const docLink = document.createElement('div');\n",
              "          docLink.innerHTML = docLinkHtml;\n",
              "          element.appendChild(docLink);\n",
              "        }\n",
              "      </script>\n",
              "    </div>\n",
              "  </div>\n",
              "  "
            ]
          },
          "metadata": {}
        },
        {
          "output_type": "display_data",
          "data": {
            "text/plain": [
              "   suma_glosow_A  suma_glosow_B  para\n",
              "3           26.0           33.0    10\n",
              "5           32.0           27.0    12\n",
              "2           39.5           19.5     9\n",
              "4           38.5           20.5    11\n",
              "0           21.0           38.0     7\n",
              "1           26.0           33.0     8"
            ],
            "text/html": [
              "\n",
              "  <div id=\"df-648019e5-973d-400c-a519-d703e30e6081\">\n",
              "    <div class=\"colab-df-container\">\n",
              "      <div>\n",
              "<style scoped>\n",
              "    .dataframe tbody tr th:only-of-type {\n",
              "        vertical-align: middle;\n",
              "    }\n",
              "\n",
              "    .dataframe tbody tr th {\n",
              "        vertical-align: top;\n",
              "    }\n",
              "\n",
              "    .dataframe thead th {\n",
              "        text-align: right;\n",
              "    }\n",
              "</style>\n",
              "<table border=\"1\" class=\"dataframe\">\n",
              "  <thead>\n",
              "    <tr style=\"text-align: right;\">\n",
              "      <th></th>\n",
              "      <th>suma_glosow_A</th>\n",
              "      <th>suma_glosow_B</th>\n",
              "      <th>para</th>\n",
              "    </tr>\n",
              "  </thead>\n",
              "  <tbody>\n",
              "    <tr>\n",
              "      <th>3</th>\n",
              "      <td>26.0</td>\n",
              "      <td>33.0</td>\n",
              "      <td>10</td>\n",
              "    </tr>\n",
              "    <tr>\n",
              "      <th>5</th>\n",
              "      <td>32.0</td>\n",
              "      <td>27.0</td>\n",
              "      <td>12</td>\n",
              "    </tr>\n",
              "    <tr>\n",
              "      <th>2</th>\n",
              "      <td>39.5</td>\n",
              "      <td>19.5</td>\n",
              "      <td>9</td>\n",
              "    </tr>\n",
              "    <tr>\n",
              "      <th>4</th>\n",
              "      <td>38.5</td>\n",
              "      <td>20.5</td>\n",
              "      <td>11</td>\n",
              "    </tr>\n",
              "    <tr>\n",
              "      <th>0</th>\n",
              "      <td>21.0</td>\n",
              "      <td>38.0</td>\n",
              "      <td>7</td>\n",
              "    </tr>\n",
              "    <tr>\n",
              "      <th>1</th>\n",
              "      <td>26.0</td>\n",
              "      <td>33.0</td>\n",
              "      <td>8</td>\n",
              "    </tr>\n",
              "  </tbody>\n",
              "</table>\n",
              "</div>\n",
              "      <button class=\"colab-df-convert\" onclick=\"convertToInteractive('df-648019e5-973d-400c-a519-d703e30e6081')\"\n",
              "              title=\"Convert this dataframe to an interactive table.\"\n",
              "              style=\"display:none;\">\n",
              "        \n",
              "  <svg xmlns=\"http://www.w3.org/2000/svg\" height=\"24px\"viewBox=\"0 0 24 24\"\n",
              "       width=\"24px\">\n",
              "    <path d=\"M0 0h24v24H0V0z\" fill=\"none\"/>\n",
              "    <path d=\"M18.56 5.44l.94 2.06.94-2.06 2.06-.94-2.06-.94-.94-2.06-.94 2.06-2.06.94zm-11 1L8.5 8.5l.94-2.06 2.06-.94-2.06-.94L8.5 2.5l-.94 2.06-2.06.94zm10 10l.94 2.06.94-2.06 2.06-.94-2.06-.94-.94-2.06-.94 2.06-2.06.94z\"/><path d=\"M17.41 7.96l-1.37-1.37c-.4-.4-.92-.59-1.43-.59-.52 0-1.04.2-1.43.59L10.3 9.45l-7.72 7.72c-.78.78-.78 2.05 0 2.83L4 21.41c.39.39.9.59 1.41.59.51 0 1.02-.2 1.41-.59l7.78-7.78 2.81-2.81c.8-.78.8-2.07 0-2.86zM5.41 20L4 18.59l7.72-7.72 1.47 1.35L5.41 20z\"/>\n",
              "  </svg>\n",
              "      </button>\n",
              "      \n",
              "  <style>\n",
              "    .colab-df-container {\n",
              "      display:flex;\n",
              "      flex-wrap:wrap;\n",
              "      gap: 12px;\n",
              "    }\n",
              "\n",
              "    .colab-df-convert {\n",
              "      background-color: #E8F0FE;\n",
              "      border: none;\n",
              "      border-radius: 50%;\n",
              "      cursor: pointer;\n",
              "      display: none;\n",
              "      fill: #1967D2;\n",
              "      height: 32px;\n",
              "      padding: 0 0 0 0;\n",
              "      width: 32px;\n",
              "    }\n",
              "\n",
              "    .colab-df-convert:hover {\n",
              "      background-color: #E2EBFA;\n",
              "      box-shadow: 0px 1px 2px rgba(60, 64, 67, 0.3), 0px 1px 3px 1px rgba(60, 64, 67, 0.15);\n",
              "      fill: #174EA6;\n",
              "    }\n",
              "\n",
              "    [theme=dark] .colab-df-convert {\n",
              "      background-color: #3B4455;\n",
              "      fill: #D2E3FC;\n",
              "    }\n",
              "\n",
              "    [theme=dark] .colab-df-convert:hover {\n",
              "      background-color: #434B5C;\n",
              "      box-shadow: 0px 1px 3px 1px rgba(0, 0, 0, 0.15);\n",
              "      filter: drop-shadow(0px 1px 2px rgba(0, 0, 0, 0.3));\n",
              "      fill: #FFFFFF;\n",
              "    }\n",
              "  </style>\n",
              "\n",
              "      <script>\n",
              "        const buttonEl =\n",
              "          document.querySelector('#df-648019e5-973d-400c-a519-d703e30e6081 button.colab-df-convert');\n",
              "        buttonEl.style.display =\n",
              "          google.colab.kernel.accessAllowed ? 'block' : 'none';\n",
              "\n",
              "        async function convertToInteractive(key) {\n",
              "          const element = document.querySelector('#df-648019e5-973d-400c-a519-d703e30e6081');\n",
              "          const dataTable =\n",
              "            await google.colab.kernel.invokeFunction('convertToInteractive',\n",
              "                                                     [key], {});\n",
              "          if (!dataTable) return;\n",
              "\n",
              "          const docLinkHtml = 'Like what you see? Visit the ' +\n",
              "            '<a target=\"_blank\" href=https://colab.research.google.com/notebooks/data_table.ipynb>data table notebook</a>'\n",
              "            + ' to learn more about interactive tables.';\n",
              "          element.innerHTML = '';\n",
              "          dataTable['output_type'] = 'display_data';\n",
              "          await google.colab.output.renderOutput(dataTable, element);\n",
              "          const docLink = document.createElement('div');\n",
              "          docLink.innerHTML = docLinkHtml;\n",
              "          element.appendChild(docLink);\n",
              "        }\n",
              "      </script>\n",
              "    </div>\n",
              "  </div>\n",
              "  "
            ]
          },
          "metadata": {}
        },
        {
          "output_type": "execute_result",
          "data": {
            "text/plain": [
              "Text(0.5, 0, 'Testowana para')"
            ]
          },
          "metadata": {},
          "execution_count": 22
        },
        {
          "output_type": "display_data",
          "data": {
            "text/plain": [
              "<Figure size 720x360 with 1 Axes>"
            ],
            "image/png": "[encoded data removed]"
          },
          "metadata": {
            "needs_background": "light"
          }
        }
      ]
    },
    {
      "cell_type": "markdown",
      "source": [
        "Wyznaczenie statystyki chi-kwadrat w celu porównania wyników dla obu części testu; stwierdzenie czy istnieje istotna różnica między głosami oddanymi w obu częścach testu:"
      ],
      "metadata": {
        "id": "p59SOqLEBDx2"
      }
    },
    {
      "cell_type": "code",
      "source": [
        "s = 2 #liczba obiektów badanych\n",
        "r = 2 #liczba części testu\n",
        "uczestnicy = u - len(odrzucone) #liczba uczestników po odrzuceniu ocen nieistotnych statystycznie\n",
        "ni = uczestnicy * 6 #liczba obserwacji należących do i-tej części testu (w tym przypadku 6 porównywanych par)\n",
        "n = r*ni #ogólna liczba obserwacji\n",
        "\n",
        "suma = 0\n",
        "\n",
        "#dla 1 serii\n",
        "suma = suma + ((wszystkie_glosy_seria1.obiekt_A - ((ni*wszystkie_glosy.obiekt_A)/n))**2)/(ni*wszystkie_glosy.obiekt_A) + ((wszystkie_glosy_seria1.obiekt_B - ((ni*wszystkie_glosy.obiekt_B)/n))**2)/(ni*wszystkie_glosy.obiekt_B)\n",
        "\n",
        "#dla 2 serii\n",
        "suma = suma + ((wszystkie_glosy_seria2.obiekt_A - ((ni*wszystkie_glosy.obiekt_A)/n))**2)/(ni*wszystkie_glosy.obiekt_A) + ((wszystkie_glosy_seria2.obiekt_B - ((ni*wszystkie_glosy.obiekt_B)/n))**2)/(ni*wszystkie_glosy.obiekt_B)\n",
        "\n",
        "chi_kwadrat = n * suma\n",
        "print(\"chi_kwadrat =\", chi_kwadrat)"
      ],
      "metadata": {
        "colab": {
          "base_uri": "https://localhost:8080/"
        },
        "id": "KcPAvkYCEUXU",
        "outputId": "3011b3f3-2e92-4f14-b277-ded9b6f5d530"
      },
      "execution_count": null,
      "outputs": [
        {
          "output_type": "stream",
          "name": "stdout",
          "text": [
            "chi_kwadrat = 0.1415694210050629\n"
          ]
        }
      ]
    },
    {
      "cell_type": "markdown",
      "source": [
        "Wyznaczenie stopni swobody:"
      ],
      "metadata": {
        "id": "VLqroC2oUKFD"
      }
    },
    {
      "cell_type": "code",
      "source": [
        "l = (r-1)*(s-1)\n",
        "print(\"liczba stopni swobody l =\", l)"
      ],
      "metadata": {
        "colab": {
          "base_uri": "https://localhost:8080/"
        },
        "id": "gmb5TFW1T5hA",
        "outputId": "b444a99b-b55f-4d08-d87c-f0afd8243358"
      },
      "execution_count": null,
      "outputs": [
        {
          "output_type": "stream",
          "name": "stdout",
          "text": [
            "liczba stopni swobody l = 1\n"
          ]
        }
      ]
    },
    {
      "cell_type": "markdown",
      "source": [
        "Wartość krytyczna odczytana z [tablic](http://prac.im.pwr.wroc.pl/~arokita/SMG/Tablica%20rozkladu%20chi%20kwadrat.pdf) dla poziomu istotności a = 0.05 i l stopni swobody = 1 wynosi **3,8415**\n",
        "\n",
        "Jeżeli obliczona wartość chi_kwadrat jest wyższa należy odrzucić hipotezę statystycznej zgodności porównywanych wyników obu części testu."
      ],
      "metadata": {
        "id": "0RNQH9aePuyW"
      }
    },
    {
      "cell_type": "markdown",
      "source": [
        "\n",
        "\n",
        "---\n",
        "\n",
        "\n",
        "Określenie parametru **z2** -> uczestnicy, którzy daną parę interpretują odmiennie w zależności od części testu\n",
        "\n",
        "W teście wykorzystano 6 scen: Patryk, Ola, Michał, Agata, Czarek, Asia\n",
        "Każda scena użyta dla dwóch warunków: p - prawdziwe nagranie, f - wygenerowana animacja\n",
        "\n",
        "Kolejne pary obejmują następujące porównania:\n",
        "\n",
        "1. Patryk p vs Ola f\n",
        "2. Agata f vs Michał p\n",
        "3. Asia f vs Czarek p\n",
        "4. Asia p vs Patryk f\n",
        "5. Ola p vs Michał f\n",
        "6. Czarek f vs Agata p\n",
        "7. Michał f vs Ola p\n",
        "8. Agata p vs Czarek f\n",
        "9. Asia f vs Czarek p\n",
        "10. Ola f vs Patryk p\n",
        "11. Asia p vs Patryk f\n",
        "12. Michał p vs Agata f\n",
        "\n",
        "Pierwsza część testu obejmuje 6 pierwszych par, druga część zawiera te same porównania, ale w losowej kolejności. Pokrywające się pary to:\n",
        "\n",
        "*   para 1 = para 10\n",
        "*   para 2 = para 12\n",
        "*   para 3 = para 9\n",
        "*   para 4 = para 11\n",
        "*   para 5 = para 7\n",
        "*   para 6 = para 8\n",
        "\n"
      ],
      "metadata": {
        "id": "BZy8wJTiXWdz"
      }
    },
    {
      "cell_type": "code",
      "source": [
        "pd.options.mode.chained_assignment = None\n",
        "IDuczestnikow = df2['osoba'].unique().tolist()\n",
        "#print(IDuczestnikow)\n",
        "\n",
        "#zmaina ID uczestnika w zależności od występowania:\n",
        "i=1\n",
        "for item in IDuczestnikow:\n",
        "  df2[\"osoba\"].replace({item : i}, inplace = True)\n",
        "  i = i+1 \n",
        "\n",
        "#d(df2.head(25))\n",
        "\n"
      ],
      "metadata": {
        "id": "hFRuWBAhczzV"
      },
      "execution_count": null,
      "outputs": []
    },
    {
      "cell_type": "code",
      "source": [
        "z2_paraA = 0\n",
        "z2_paraB = 0\n",
        "z2_paraC = 0\n",
        "z2_paraD = 0\n",
        "z2_paraE = 0\n",
        "z2_paraF = 0\n",
        "\n",
        "for i in range (len(IDuczestnikow)):\n",
        "  if df2.loc[(df2['osoba']== i+1) & (df['para'] == 1)]['obiekt_A'].values[0] != df2.loc[(df2['osoba']== i+1) & (df['para'] == 10)]['obiekt_A'].values[0]:\n",
        "    z2_paraA += 1\n",
        "\n",
        "for i in range (len(IDuczestnikow)):\n",
        "  if df2.loc[(df2['osoba']== i+1) & (df['para'] == 2)]['obiekt_A'].values[0] != df2.loc[(df2['osoba']== i+1) & (df['para'] == 12)]['obiekt_A'].values[0]:\n",
        "    z2_paraB += 1\n",
        "\n",
        "for i in range (len(IDuczestnikow)):\n",
        "  if df2.loc[(df2['osoba']== i+1) & (df['para'] == 3)]['obiekt_A'].values[0] != df2.loc[(df2['osoba']== i+1) & (df['para'] == 9)]['obiekt_A'].values[0]:\n",
        "    z2_paraC += 1\n",
        "\n",
        "for i in range (len(IDuczestnikow)):\n",
        "  if df2.loc[(df2['osoba']== i+1) & (df['para'] == 4)]['obiekt_A'].values[0] != df2.loc[(df2['osoba']== i+1) & (df['para'] == 11)]['obiekt_A'].values[0]:\n",
        "    z2_paraD += 1\n",
        "\n",
        "for i in range (len(IDuczestnikow)):\n",
        "  if df2.loc[(df2['osoba']== i+1) & (df['para'] == 5)]['obiekt_A'].values[0] != df2.loc[(df2['osoba']== i+1) & (df['para'] == 7)]['obiekt_A'].values[0]:\n",
        "    z2_paraE += 1\n",
        "\n",
        "for i in range (len(IDuczestnikow)):\n",
        "  if df2.loc[(df2['osoba']== i+1) & (df['para'] == 6)]['obiekt_A'].values[0] != df2.loc[(df2['osoba']== i+1) & (df['para'] == 8)]['obiekt_A'].values[0]:\n",
        "    z2_paraF += 1\n",
        "\n",
        "#print (z2_paraA)\n",
        "\n",
        "from tabulate import tabulate\n",
        "  \n",
        "# creating a DataFrame\n",
        "dict = {'Para':['1', '2', '3', '4', '5', '6'],\n",
        "        'z2':[z2_paraA, z2_paraB, z2_paraC, z2_paraD, z2_paraE, z2_paraF]}\n",
        "parametryz = pd.DataFrame(dict)\n",
        "  \n",
        "# displaying the DataFrame\n",
        "print(tabulate(parametryz, headers = 'keys', tablefmt = 'fancy_grid'))"
      ],
      "metadata": {
        "colab": {
          "base_uri": "https://localhost:8080/"
        },
        "id": "i0Sc6JLjsY-D",
        "outputId": "9741811e-96c6-4b86-cc98-838f1703976d"
      },
      "execution_count": null,
      "outputs": [
        {
          "output_type": "stream",
          "name": "stdout",
          "text": [
            "╒════╤════════╤══════╕\n",
            "│    │   Para │   z2 │\n",
            "╞════╪════════╪══════╡\n",
            "│  0 │      1 │   13 │\n",
            "├────┼────────┼──────┤\n",
            "│  1 │      2 │   16 │\n",
            "├────┼────────┼──────┤\n",
            "│  2 │      3 │   10 │\n",
            "├────┼────────┼──────┤\n",
            "│  3 │      4 │   12 │\n",
            "├────┼────────┼──────┤\n",
            "│  4 │      5 │   11 │\n",
            "├────┼────────┼──────┤\n",
            "│  5 │      6 │    4 │\n",
            "╘════╧════════╧══════╛\n"
          ]
        }
      ]
    },
    {
      "cell_type": "markdown",
      "source": [
        "Obliczanie parametru **z3**\n",
        "\n",
        "Wartość krytyczna z(a) = 1,96 dla a = 0,05\n",
        "\n",
        "Jeżeli obliczony parametr z3 < z(a) to nie ma podstaw do odrzucenia hipotezy o braku istotnej różnicy między porównywanymi obiektami"
      ],
      "metadata": {
        "id": "_r0pTYth-aKK"
      }
    },
    {
      "cell_type": "markdown",
      "source": [
        "**zAB_seria1** -> Istotność różnic między obrazami rzeczywistymi A a obrazami wygenerowanymi B przy założeniu istotności a=0,05 biorąc pod uwagę tylko 1 serię testu:"
      ],
      "metadata": {
        "id": "pncXKm5f_uCJ"
      }
    },
    {
      "cell_type": "code",
      "source": [
        "import math\n",
        "\n",
        "N = 6 * uczestnicy #maks. liczba głosów możliwa do uzyskania przez jeden obiekt\n",
        "pA = wszystkie_glosy_seria1.obiekt_A/N #względna liczebność głosów opowiadających się za obiektem A\n",
        "pB = wszystkie_glosy_seria1.obiekt_B/N\n",
        "\n",
        "zAB = (abs(pA-pB))/math.sqrt(((pA+pB)*(2-pA-pB))/(2*N))\n",
        "print(zAB)"
      ],
      "metadata": {
        "colab": {
          "base_uri": "https://localhost:8080/"
        },
        "id": "M7f9GkuBQwqS",
        "outputId": "c8e7d84e-f63d-4b79-85fd-57ec88e5d9ab"
      },
      "execution_count": null,
      "outputs": [
        {
          "output_type": "stream",
          "name": "stdout",
          "text": [
            "1.6536212616062231\n"
          ]
        }
      ]
    },
    {
      "cell_type": "markdown",
      "source": [
        "**zAB_seria2** -> Istotność różnic między obrazami rzeczywistymi A a obrazami wygenerowanymi B przy założeniu istotności a=0,05 biorąc pod uwagę tylko 2 serię testu:"
      ],
      "metadata": {
        "id": "r4pVUiHvBI9X"
      }
    },
    {
      "cell_type": "code",
      "source": [
        "N = 6 * uczestnicy #maks. liczba głosów możliwa do uzyskania przez jeden obiekt\n",
        "pA = wszystkie_glosy_seria2.obiekt_A/N #względna liczebność głosów opowiadających się za obiektem A\n",
        "pB = wszystkie_glosy_seria2.obiekt_B/N\n",
        "\n",
        "zAB_seria2 = (abs(pA-pB))/math.sqrt(((pA+pB)*(2-pA-pB))/(2*N))\n",
        "print(zAB_seria2)"
      ],
      "metadata": {
        "colab": {
          "base_uri": "https://localhost:8080/"
        },
        "id": "LkaYJBjtBMhu",
        "outputId": "abed9347-6861-4847-ad67-e5148537dc05"
      },
      "execution_count": null,
      "outputs": [
        {
          "output_type": "stream",
          "name": "stdout",
          "text": [
            "0.9019752336033938\n"
          ]
        }
      ]
    },
    {
      "cell_type": "markdown",
      "source": [
        "**zAB_łączna** -> dla obu serii"
      ],
      "metadata": {
        "id": "voQK7ITJHFo8"
      }
    },
    {
      "cell_type": "code",
      "source": [
        "N = 12 * uczestnicy #maks. liczba głosów możliwa do uzyskania przez jeden obiekt\n",
        "pA = wszystkie_glosy.obiekt_A/N #względna liczebność głosów opowiadających się za obiektem A\n",
        "pB = wszystkie_glosy.obiekt_B/N\n",
        "\n",
        "zAB_razem = (abs(pA-pB))/math.sqrt(((pA+pB)*(2-pA-pB))/(2*N))\n",
        "print(zAB_razem)"
      ],
      "metadata": {
        "colab": {
          "base_uri": "https://localhost:8080/"
        },
        "id": "RcmcFrGsEIok",
        "outputId": "271468cc-0138-445f-abf5-abde4282d531"
      },
      "execution_count": null,
      "outputs": [
        {
          "output_type": "stream",
          "name": "stdout",
          "text": [
            "1.8070796117392933\n"
          ]
        }
      ]
    },
    {
      "cell_type": "markdown",
      "source": [
        "Statystyka chi_kwadrat policzona zgodnie z tym co na [stronie](http://statystyka-pomoc.com/Chi-kwadrat.html)\n",
        "\n",
        "Jeżeli większa niż 3,841 to odrzucamy hipotezę zerową, że nie ma różnic między wygenerowanymi a rzeczywistymi obrazami"
      ],
      "metadata": {
        "id": "uddcTRurHOll"
      }
    },
    {
      "cell_type": "code",
      "source": [
        "#policzone dla 1 części testu:\n",
        "\n",
        "N = 6 * uczestnicy #maks. liczba głosów możliwa do uzyskania przez jeden obiekt\n",
        "\n",
        "chi_kwadrat_nowe = 2 * (((wszystkie_glosy_seria1.obiekt_A - N/2)**2)/(N/2))\n",
        "print(\"chi kwadrat: \", chi_kwadrat_nowe)"
      ],
      "metadata": {
        "colab": {
          "base_uri": "https://localhost:8080/"
        },
        "id": "t5Ot_nzJHyXa",
        "outputId": "2804f082-9400-40d1-e819-59b9356c099e"
      },
      "execution_count": null,
      "outputs": [
        {
          "output_type": "stream",
          "name": "stdout",
          "text": [
            "chi kwadrat:  1.3672316384180792\n"
          ]
        }
      ]
    },
    {
      "cell_type": "code",
      "source": [
        "#policzone dla 2 części testu:\n",
        "\n",
        "N = 6 * uczestnicy #maks. liczba głosów możliwa do uzyskania przez jeden obiekt\n",
        "\n",
        "chi_kwadrat_nowe = 2 * (((wszystkie_glosy_seria2.obiekt_A - N/2)**2)/(N/2))\n",
        "print(\"chi kwadrat: \", chi_kwadrat_nowe)"
      ],
      "metadata": {
        "colab": {
          "base_uri": "https://localhost:8080/"
        },
        "id": "z3yNqXmTKF9e",
        "outputId": "833ed4fd-b7e4-497d-9dc9-5b8584f4f5a1"
      },
      "execution_count": null,
      "outputs": [
        {
          "output_type": "stream",
          "name": "stdout",
          "text": [
            "chi kwadrat:  0.4067796610169492\n"
          ]
        }
      ]
    },
    {
      "cell_type": "code",
      "source": [
        "#policzone dla obu części testu łącznie:\n",
        "\n",
        "N = 12 * uczestnicy #maks. liczba głosów możliwa do uzyskania przez jeden obiekt\n",
        "\n",
        "chi_kwadrat_nowe = 2 * (((wszystkie_glosy.obiekt_A - N/2)**2)/(N/2))\n",
        "print(\"chi kwadrat: \", chi_kwadrat_nowe)"
      ],
      "metadata": {
        "colab": {
          "base_uri": "https://localhost:8080/"
        },
        "id": "R8mKomXfrcik",
        "outputId": "87a21db4-08b7-44a2-e47f-6652a28323ff"
      },
      "execution_count": null,
      "outputs": [
        {
          "output_type": "stream",
          "name": "stdout",
          "text": [
            "chi kwadrat:  89.18537414965986\n"
          ]
        }
      ]
    }
  ]
}